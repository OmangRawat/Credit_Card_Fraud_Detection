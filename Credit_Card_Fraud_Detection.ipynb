{
  "nbformat": 4,
  "nbformat_minor": 0,
  "metadata": {
    "colab": {
      "name": "Credit_Card_Fraud_Detection.ipynb",
      "provenance": [],
      "collapsed_sections": []
    },
    "kernelspec": {
      "name": "python3",
      "display_name": "Python 3"
    },
    "language_info": {
      "name": "python"
    }
  },
  "cells": [
    {
      "cell_type": "markdown",
      "metadata": {
        "id": "TvbD-MdddgT3"
      },
      "source": [
        "# **Credit Card Fraud Detection using Neural Networks**"
      ]
    },
    {
      "cell_type": "markdown",
      "metadata": {
        "id": "TLXLf_FlcFzH"
      },
      "source": [
        "Colab Link: https://colab.research.google.com/drive/1DInbAADnFGG67V8LXP5gp8ha2PggzfMC?usp=sharing"
      ]
    },
    {
      "cell_type": "code",
      "metadata": {
        "id": "YRPeQSZsToAP"
      },
      "source": [
        "import pandas as pd\n",
        "import numpy as np\n",
        "import seaborn as sns\n",
        "from sklearn import metrics\n",
        "import matplotlib.pyplot as plt\n",
        "from sklearn.metrics import confusion_matrix\n",
        "from sklearn.preprocessing import MinMaxScaler\n",
        "from sklearn.model_selection import train_test_split\n",
        "import warnings\n",
        "warnings.filterwarnings('ignore')"
      ],
      "execution_count": null,
      "outputs": []
    },
    {
      "cell_type": "markdown",
      "metadata": {
        "id": "Upb-fBkyd_qH"
      },
      "source": [
        "**---> Reading the dataset**"
      ]
    },
    {
      "cell_type": "code",
      "metadata": {
        "colab": {
          "base_uri": "https://localhost:8080/",
          "height": 290
        },
        "id": "JGIrYPMCn8B1",
        "outputId": "7cfef269-4407-4ecf-f845-ef72fc9d9b97"
      },
      "source": [
        "# Dataset : https://archive.ics.uci.edu/ml/datasets/default+of+credit+card+clients\n",
        "data = pd.read_csv('datasheet.csv')\n",
        "\n",
        "data.head()"
      ],
      "execution_count": null,
      "outputs": [
        {
          "output_type": "execute_result",
          "data": {
            "text/html": [
              "<div>\n",
              "<style scoped>\n",
              "    .dataframe tbody tr th:only-of-type {\n",
              "        vertical-align: middle;\n",
              "    }\n",
              "\n",
              "    .dataframe tbody tr th {\n",
              "        vertical-align: top;\n",
              "    }\n",
              "\n",
              "    .dataframe thead th {\n",
              "        text-align: right;\n",
              "    }\n",
              "</style>\n",
              "<table border=\"1\" class=\"dataframe\">\n",
              "  <thead>\n",
              "    <tr style=\"text-align: right;\">\n",
              "      <th></th>\n",
              "      <th>Unnamed: 0</th>\n",
              "      <th>X1</th>\n",
              "      <th>X2</th>\n",
              "      <th>X3</th>\n",
              "      <th>X4</th>\n",
              "      <th>X5</th>\n",
              "      <th>X6</th>\n",
              "      <th>X7</th>\n",
              "      <th>X8</th>\n",
              "      <th>X9</th>\n",
              "      <th>X10</th>\n",
              "      <th>X11</th>\n",
              "      <th>X12</th>\n",
              "      <th>X13</th>\n",
              "      <th>X14</th>\n",
              "      <th>X15</th>\n",
              "      <th>X16</th>\n",
              "      <th>X17</th>\n",
              "      <th>X18</th>\n",
              "      <th>X19</th>\n",
              "      <th>X20</th>\n",
              "      <th>X21</th>\n",
              "      <th>X22</th>\n",
              "      <th>X23</th>\n",
              "      <th>Y</th>\n",
              "    </tr>\n",
              "  </thead>\n",
              "  <tbody>\n",
              "    <tr>\n",
              "      <th>0</th>\n",
              "      <td>ID</td>\n",
              "      <td>LIMIT_BAL</td>\n",
              "      <td>SEX</td>\n",
              "      <td>EDUCATION</td>\n",
              "      <td>MARRIAGE</td>\n",
              "      <td>AGE</td>\n",
              "      <td>PAY_0</td>\n",
              "      <td>PAY_2</td>\n",
              "      <td>PAY_3</td>\n",
              "      <td>PAY_4</td>\n",
              "      <td>PAY_5</td>\n",
              "      <td>PAY_6</td>\n",
              "      <td>BILL_AMT1</td>\n",
              "      <td>BILL_AMT2</td>\n",
              "      <td>BILL_AMT3</td>\n",
              "      <td>BILL_AMT4</td>\n",
              "      <td>BILL_AMT5</td>\n",
              "      <td>BILL_AMT6</td>\n",
              "      <td>PAY_AMT1</td>\n",
              "      <td>PAY_AMT2</td>\n",
              "      <td>PAY_AMT3</td>\n",
              "      <td>PAY_AMT4</td>\n",
              "      <td>PAY_AMT5</td>\n",
              "      <td>PAY_AMT6</td>\n",
              "      <td>default payment next month</td>\n",
              "    </tr>\n",
              "    <tr>\n",
              "      <th>1</th>\n",
              "      <td>1</td>\n",
              "      <td>20000</td>\n",
              "      <td>2</td>\n",
              "      <td>2</td>\n",
              "      <td>1</td>\n",
              "      <td>24</td>\n",
              "      <td>2</td>\n",
              "      <td>2</td>\n",
              "      <td>-1</td>\n",
              "      <td>-1</td>\n",
              "      <td>-2</td>\n",
              "      <td>-2</td>\n",
              "      <td>3913</td>\n",
              "      <td>3102</td>\n",
              "      <td>689</td>\n",
              "      <td>0</td>\n",
              "      <td>0</td>\n",
              "      <td>0</td>\n",
              "      <td>0</td>\n",
              "      <td>689</td>\n",
              "      <td>0</td>\n",
              "      <td>0</td>\n",
              "      <td>0</td>\n",
              "      <td>0</td>\n",
              "      <td>1</td>\n",
              "    </tr>\n",
              "    <tr>\n",
              "      <th>2</th>\n",
              "      <td>2</td>\n",
              "      <td>120000</td>\n",
              "      <td>2</td>\n",
              "      <td>2</td>\n",
              "      <td>2</td>\n",
              "      <td>26</td>\n",
              "      <td>-1</td>\n",
              "      <td>2</td>\n",
              "      <td>0</td>\n",
              "      <td>0</td>\n",
              "      <td>0</td>\n",
              "      <td>2</td>\n",
              "      <td>2682</td>\n",
              "      <td>1725</td>\n",
              "      <td>2682</td>\n",
              "      <td>3272</td>\n",
              "      <td>3455</td>\n",
              "      <td>3261</td>\n",
              "      <td>0</td>\n",
              "      <td>1000</td>\n",
              "      <td>1000</td>\n",
              "      <td>1000</td>\n",
              "      <td>0</td>\n",
              "      <td>2000</td>\n",
              "      <td>1</td>\n",
              "    </tr>\n",
              "    <tr>\n",
              "      <th>3</th>\n",
              "      <td>3</td>\n",
              "      <td>90000</td>\n",
              "      <td>2</td>\n",
              "      <td>2</td>\n",
              "      <td>2</td>\n",
              "      <td>34</td>\n",
              "      <td>0</td>\n",
              "      <td>0</td>\n",
              "      <td>0</td>\n",
              "      <td>0</td>\n",
              "      <td>0</td>\n",
              "      <td>0</td>\n",
              "      <td>29239</td>\n",
              "      <td>14027</td>\n",
              "      <td>13559</td>\n",
              "      <td>14331</td>\n",
              "      <td>14948</td>\n",
              "      <td>15549</td>\n",
              "      <td>1518</td>\n",
              "      <td>1500</td>\n",
              "      <td>1000</td>\n",
              "      <td>1000</td>\n",
              "      <td>1000</td>\n",
              "      <td>5000</td>\n",
              "      <td>0</td>\n",
              "    </tr>\n",
              "    <tr>\n",
              "      <th>4</th>\n",
              "      <td>4</td>\n",
              "      <td>50000</td>\n",
              "      <td>2</td>\n",
              "      <td>2</td>\n",
              "      <td>1</td>\n",
              "      <td>37</td>\n",
              "      <td>0</td>\n",
              "      <td>0</td>\n",
              "      <td>0</td>\n",
              "      <td>0</td>\n",
              "      <td>0</td>\n",
              "      <td>0</td>\n",
              "      <td>46990</td>\n",
              "      <td>48233</td>\n",
              "      <td>49291</td>\n",
              "      <td>28314</td>\n",
              "      <td>28959</td>\n",
              "      <td>29547</td>\n",
              "      <td>2000</td>\n",
              "      <td>2019</td>\n",
              "      <td>1200</td>\n",
              "      <td>1100</td>\n",
              "      <td>1069</td>\n",
              "      <td>1000</td>\n",
              "      <td>0</td>\n",
              "    </tr>\n",
              "  </tbody>\n",
              "</table>\n",
              "</div>"
            ],
            "text/plain": [
              "  Unnamed: 0         X1   X2  ...       X22       X23                           Y\n",
              "0         ID  LIMIT_BAL  SEX  ...  PAY_AMT5  PAY_AMT6  default payment next month\n",
              "1          1      20000    2  ...         0         0                           1\n",
              "2          2     120000    2  ...         0      2000                           1\n",
              "3          3      90000    2  ...      1000      5000                           0\n",
              "4          4      50000    2  ...      1069      1000                           0\n",
              "\n",
              "[5 rows x 25 columns]"
            ]
          },
          "metadata": {},
          "execution_count": 5
        }
      ]
    },
    {
      "cell_type": "markdown",
      "metadata": {
        "id": "KjjmbXplgFmO"
      },
      "source": [
        "**---> Cleaning Data**"
      ]
    },
    {
      "cell_type": "code",
      "metadata": {
        "id": "eQL0v8dthyVc"
      },
      "source": [
        "# Drop Unnamed: 0 as we have an autogenerated ID column for each row\n",
        "\n",
        "data = data.drop(labels=['Unnamed: 0'], axis=1)\n",
        "data = data.drop([0])"
      ],
      "execution_count": null,
      "outputs": []
    },
    {
      "cell_type": "markdown",
      "metadata": {
        "id": "Adwx5DxRgLFo"
      },
      "source": [
        "**---> Removing all the null values (if any)**\n",
        "\n"
      ]
    },
    {
      "cell_type": "code",
      "metadata": {
        "id": "5q8AbV1Weyo6",
        "colab": {
          "base_uri": "https://localhost:8080/"
        },
        "outputId": "639d197a-0c6a-4635-ba76-b5674e77ebdc"
      },
      "source": [
        "data.isnull().sum() \n",
        "\n",
        "# No null values in any column"
      ],
      "execution_count": null,
      "outputs": [
        {
          "output_type": "execute_result",
          "data": {
            "text/plain": [
              "X1     0\n",
              "X2     0\n",
              "X3     0\n",
              "X4     0\n",
              "X5     0\n",
              "X6     0\n",
              "X7     0\n",
              "X8     0\n",
              "X9     0\n",
              "X10    0\n",
              "X11    0\n",
              "X12    0\n",
              "X13    0\n",
              "X14    0\n",
              "X15    0\n",
              "X16    0\n",
              "X17    0\n",
              "X18    0\n",
              "X19    0\n",
              "X20    0\n",
              "X21    0\n",
              "X22    0\n",
              "X23    0\n",
              "Y      0\n",
              "dtype: int64"
            ]
          },
          "metadata": {},
          "execution_count": 7
        }
      ]
    },
    {
      "cell_type": "code",
      "metadata": {
        "id": "K8AXb0jmgd-m",
        "colab": {
          "base_uri": "https://localhost:8080/"
        },
        "outputId": "b9a8ff8e-4f6c-47e4-e97e-af6f3a659670"
      },
      "source": [
        "data.columns"
      ],
      "execution_count": null,
      "outputs": [
        {
          "output_type": "execute_result",
          "data": {
            "text/plain": [
              "Index(['X1', 'X2', 'X3', 'X4', 'X5', 'X6', 'X7', 'X8', 'X9', 'X10', 'X11',\n",
              "       'X12', 'X13', 'X14', 'X15', 'X16', 'X17', 'X18', 'X19', 'X20', 'X21',\n",
              "       'X22', 'X23', 'Y'],\n",
              "      dtype='object')"
            ]
          },
          "metadata": {},
          "execution_count": 8
        }
      ]
    },
    {
      "cell_type": "code",
      "metadata": {
        "id": "UdiGx_yKhhfx"
      },
      "source": [
        "columns_X = ['X1', 'X2', 'X3', 'X4', 'X5', 'X6', 'X7', 'X8', 'X9',\n",
        "       'X10', 'X11', 'X12', 'X13', 'X14', 'X15', 'X16', 'X17', 'X18', 'X19',\n",
        "       'X20', 'X21', 'X22', 'X23']"
      ],
      "execution_count": null,
      "outputs": []
    },
    {
      "cell_type": "code",
      "metadata": {
        "colab": {
          "base_uri": "https://localhost:8080/",
          "height": 282
        },
        "id": "7rVuNbXfL5nu",
        "outputId": "c5c776f0-9d1e-4cfb-abe6-a87d77edb7c1"
      },
      "source": [
        "# X2: SEX\n",
        "data['X2'].value_counts().plot(kind='barh')\n",
        "# No. of Females > No. of Males"
      ],
      "execution_count": null,
      "outputs": [
        {
          "output_type": "execute_result",
          "data": {
            "text/plain": [
              "<matplotlib.axes._subplots.AxesSubplot at 0x7fb096aa9c10>"
            ]
          },
          "metadata": {},
          "execution_count": 10
        },
        {
          "output_type": "display_data",
          "data": {
            "image/png": "[encoded data removed]",
            "text/plain": [
              "<Figure size 432x288 with 1 Axes>"
            ]
          },
          "metadata": {
            "needs_background": "light"
          }
        }
      ]
    },
    {
      "cell_type": "code",
      "metadata": {
        "colab": {
          "base_uri": "https://localhost:8080/",
          "height": 282
        },
        "id": "S8MPzGzQdvko",
        "outputId": "53f61d9b-34c6-40f8-bdff-899824c0ab2f"
      },
      "source": [
        "# X3: EDUCATION\n",
        "data['X3'].value_counts().plot(kind='barh')"
      ],
      "execution_count": null,
      "outputs": [
        {
          "output_type": "execute_result",
          "data": {
            "text/plain": [
              "<matplotlib.axes._subplots.AxesSubplot at 0x7fb0969e0e50>"
            ]
          },
          "metadata": {},
          "execution_count": 11
        },
        {
          "output_type": "display_data",
          "data": {
            "image/png": "[encoded data removed]",
            "text/plain": [
              "<Figure size 432x288 with 1 Axes>"
            ]
          },
          "metadata": {
            "needs_background": "light"
          }
        }
      ]
    },
    {
      "cell_type": "code",
      "metadata": {
        "colab": {
          "base_uri": "https://localhost:8080/",
          "height": 282
        },
        "id": "3hBHvE4pd-kY",
        "outputId": "5d098cd8-4765-4df9-c731-0ac65e6e6ff0"
      },
      "source": [
        "# X4: MARRIAGE\n",
        "data['X4'].value_counts().plot(kind='barh')"
      ],
      "execution_count": null,
      "outputs": [
        {
          "output_type": "execute_result",
          "data": {
            "text/plain": [
              "<matplotlib.axes._subplots.AxesSubplot at 0x7fb096537350>"
            ]
          },
          "metadata": {},
          "execution_count": 12
        },
        {
          "output_type": "display_data",
          "data": {
            "image/png": "[encoded data removed]",
            "text/plain": [
              "<Figure size 432x288 with 1 Axes>"
            ]
          },
          "metadata": {
            "needs_background": "light"
          }
        }
      ]
    },
    {
      "cell_type": "code",
      "metadata": {
        "colab": {
          "base_uri": "https://localhost:8080/",
          "height": 285
        },
        "id": "pEBPsGi4d-z-",
        "outputId": "f4f7943d-d4f3-4f62-d0b5-9677a046f23a"
      },
      "source": [
        "# data['X5']\n",
        "data['X5'].value_counts().plot(kind=\"bar\")"
      ],
      "execution_count": null,
      "outputs": [
        {
          "output_type": "execute_result",
          "data": {
            "text/plain": [
              "<matplotlib.axes._subplots.AxesSubplot at 0x7fb0964c8450>"
            ]
          },
          "metadata": {},
          "execution_count": 13
        },
        {
          "output_type": "display_data",
          "data": {
            "image/png": "[encoded data removed]",
            "text/plain": [
              "<Figure size 432x288 with 1 Axes>"
            ]
          },
          "metadata": {
            "needs_background": "light"
          }
        }
      ]
    },
    {
      "cell_type": "code",
      "metadata": {
        "colab": {
          "base_uri": "https://localhost:8080/",
          "height": 282
        },
        "id": "q8tj91y8UYab",
        "outputId": "113e5430-1d2c-4b9e-add3-7d9f74efd4fd"
      },
      "source": [
        "# Y: Classification\n",
        "data['Y'].value_counts().plot(kind='barh')"
      ],
      "execution_count": null,
      "outputs": [
        {
          "output_type": "execute_result",
          "data": {
            "text/plain": [
              "<matplotlib.axes._subplots.AxesSubplot at 0x7fb0962ec350>"
            ]
          },
          "metadata": {},
          "execution_count": 14
        },
        {
          "output_type": "display_data",
          "data": {
            "image/png": "[encoded data removed]",
            "text/plain": [
              "<Figure size 432x288 with 1 Axes>"
            ]
          },
          "metadata": {
            "needs_background": "light"
          }
        }
      ]
    },
    {
      "cell_type": "markdown",
      "metadata": {
        "id": "5vnU9pAtnSKG"
      },
      "source": [
        "**---> Reshaping the Dataset**\n"
      ]
    },
    {
      "cell_type": "code",
      "metadata": {
        "id": "PLhE-PhgjdYb",
        "colab": {
          "base_uri": "https://localhost:8080/"
        },
        "outputId": "c617a4b4-e5a4-47bd-a985-5d48327fbb05"
      },
      "source": [
        "# Dividing Dataset into Features and Output\n",
        "X = pd.DataFrame(data, columns=columns_X)\n",
        "print(\"Shape of X -> \", X.shape)\n",
        "\n",
        "# Setting Up Output\n",
        "Y = data.Y\n",
        "Y = Y.values.reshape(Y.shape[0],1)\n",
        "print(\"Shape of Y -> \", Y.shape)"
      ],
      "execution_count": null,
      "outputs": [
        {
          "output_type": "stream",
          "name": "stdout",
          "text": [
            "Shape of X ->  (30000, 23)\n",
            "Shape of Y ->  (30000, 1)\n"
          ]
        }
      ]
    },
    {
      "cell_type": "markdown",
      "metadata": {
        "id": "JsV5kpMkS05S"
      },
      "source": [
        "**---> Scaling Data**"
      ]
    },
    {
      "cell_type": "code",
      "metadata": {
        "id": "TOuAcM76QVY3"
      },
      "source": [
        "scaler = MinMaxScaler()\n",
        "X = pd.DataFrame(scaler.fit_transform(X))"
      ],
      "execution_count": null,
      "outputs": []
    },
    {
      "cell_type": "markdown",
      "metadata": {
        "id": "532fB8WGfJwn"
      },
      "source": [
        "**---> Dividing Data into Train, Validation and Test**"
      ]
    },
    {
      "cell_type": "code",
      "metadata": {
        "id": "SzlJfiQ1D-xI"
      },
      "source": [
        "# X_train, X_test, y_train, y_test = train_test_split(X, Y, test_size=0.3, random_state=42)\n",
        "X_train, X_test, y_train, y_test = train_test_split(X, Y, test_size=0.2, random_state=42)\n",
        "X_train, X_val, y_train, y_val = train_test_split(X_train, y_train, test_size=0.2, random_state=42)"
      ],
      "execution_count": null,
      "outputs": []
    },
    {
      "cell_type": "markdown",
      "metadata": {
        "id": "f6R0tT4pfadU"
      },
      "source": [
        "**---> Implementing KFold**"
      ]
    },
    {
      "cell_type": "code",
      "metadata": {
        "id": "XqZDPslgSXsv"
      },
      "source": [
        "from sklearn.model_selection import KFold \n",
        "from sklearn.model_selection import cross_val_score\n",
        "def KFold_func(model, name):\n",
        "  results = []\n",
        "  names = []\n",
        "  kfold = KFold(n_splits=5, random_state=1)\n",
        "  cv_results = cross_val_score(model, X_train, y_train, cv=kfold, scoring=\"accuracy\")\n",
        "  results.append(cv_results)\n",
        "  names.append(name)\n",
        "  msg = \"%s: %f (%f)\" % (name, cv_results.mean(), cv_results.std())\n",
        "  print(msg)"
      ],
      "execution_count": null,
      "outputs": []
    },
    {
      "cell_type": "markdown",
      "metadata": {
        "id": "JyRa_PaWRoXQ"
      },
      "source": [
        "**---> Using Logistic Regression**"
      ]
    },
    {
      "cell_type": "code",
      "metadata": {
        "id": "4x1zt9EXpJdv"
      },
      "source": [
        "from sklearn.linear_model import LogisticRegression\n",
        "# model1 = LogisticRegression(random_state=2)\n",
        "# model1 = LogisticRegression(random_state=2, class_weight='balanced')\n",
        "# logit = model1.fit(X_train, np.array(y_train))\n",
        "# model1.fit(X_train, np.array(y_train))"
      ],
      "execution_count": null,
      "outputs": []
    },
    {
      "cell_type": "markdown",
      "metadata": {
        "id": "LkN165YypwTb"
      },
      "source": [
        "*  Hyper Parameter Tuning for Logistic Regression"
      ]
    },
    {
      "cell_type": "code",
      "metadata": {
        "colab": {
          "base_uri": "https://localhost:8080/"
        },
        "id": "z_RnD1PDFJt9",
        "outputId": "45f7e960-ad35-4c28-c821-4c5a6320f32d"
      },
      "source": [
        "lr_class_weight = ['None', 'balanced']\n",
        "lr_max_iters = [1, 10, 100, 200]\n",
        "lr_tolerance = [0.0002, 0.0001]\n",
        "final_model_lr = LogisticRegression(random_state=2)\n",
        "acc = -1\n",
        "for w in lr_class_weight:\n",
        "  for iter in lr_max_iters:\n",
        "    for rho in lr_tolerance:\n",
        "      model1 = LogisticRegression(random_state=2, class_weight=(w), max_iter=int(iter), tol=(rho))\n",
        "      model1.fit(X_train, np.array(y_train))\n",
        "      y_pred_val = model1.predict(X_val)\n",
        "      if metrics.accuracy_score(y_val, y_pred_val) > acc:\n",
        "        acc = metrics.accuracy_score(y_val, y_pred_val)\n",
        "        final_model_lr = model1\n",
        "        print(acc)\n",
        "final_model_lr"
      ],
      "execution_count": null,
      "outputs": [
        {
          "output_type": "stream",
          "name": "stdout",
          "text": [
            "0.7760416666666666\n",
            "0.795625\n",
            "0.8091666666666667\n"
          ]
        },
        {
          "output_type": "execute_result",
          "data": {
            "text/plain": [
              "LogisticRegression(C=1.0, class_weight='None', dual=False, fit_intercept=True,\n",
              "                   intercept_scaling=1, l1_ratio=None, max_iter=100,\n",
              "                   multi_class='auto', n_jobs=None, penalty='l2',\n",
              "                   random_state=2, solver='lbfgs', tol=0.0002, verbose=0,\n",
              "                   warm_start=False)"
            ]
          },
          "metadata": {},
          "execution_count": 20
        }
      ]
    },
    {
      "cell_type": "code",
      "metadata": {
        "colab": {
          "base_uri": "https://localhost:8080/"
        },
        "id": "siFQ1hPCpR3O",
        "outputId": "6e0e3053-6a02-438d-b49d-1b5575eaaf21"
      },
      "source": [
        "# y_pred_logit = model1.predict(X_test)\n",
        "KFold_func(final_model_lr, 'Logistic Regression')\n",
        "y_pred_logit = final_model_lr.predict(X_test)\n",
        "# y_pred_logit"
      ],
      "execution_count": null,
      "outputs": [
        {
          "output_type": "stream",
          "name": "stdout",
          "text": [
            "Logistic Regression: 0.809115 (0.005571)\n"
          ]
        }
      ]
    },
    {
      "cell_type": "code",
      "metadata": {
        "colab": {
          "base_uri": "https://localhost:8080/"
        },
        "id": "gyjwHJS9pfCF",
        "outputId": "7ec39049-439b-4805-f57c-09ad63fc5b00"
      },
      "source": [
        "print(\"Accuracy LR:\",metrics.accuracy_score(y_test, y_pred_logit))\n",
        "print(\"Precision LR:\",metrics.precision_score(y_test, y_pred_logit, pos_label=\"0\"))\n",
        "print(\"Recall LR:\",metrics.recall_score(y_test, y_pred_logit, pos_label=\"0\"))\n",
        "print(\"F1 Score LR:\",metrics.f1_score(y_test, y_pred_logit, pos_label=\"0\"))"
      ],
      "execution_count": null,
      "outputs": [
        {
          "output_type": "stream",
          "name": "stdout",
          "text": [
            "Accuracy LR: 0.8103333333333333\n",
            "Precision LR: 0.8179537717254972\n",
            "Recall LR: 0.9739705568593984\n",
            "F1 Score LR: 0.8891702376314765\n"
          ]
        }
      ]
    },
    {
      "cell_type": "code",
      "metadata": {
        "colab": {
          "base_uri": "https://localhost:8080/",
          "height": 311
        },
        "id": "x-AyYJbuiVz1",
        "outputId": "4ed62e93-c03e-4903-de97-38d2c48f4395"
      },
      "source": [
        "matrix_logit = confusion_matrix(y_test, y_pred_logit)\n",
        "cm_logit = pd.DataFrame(matrix_logit, index=['not_fraud', 'fraud'], columns=['not_fraud', 'fraud'])\n",
        "\n",
        "sns.heatmap(cm_logit, annot=True, cbar=None, cmap=\"Blues\", fmt = 'g')\n",
        "plt.title(\"Confusion Matrix Logistic Regression\"), plt.tight_layout()\n",
        "plt.ylabel(\"True Class\"), plt.xlabel(\"Predicted Class\")\n",
        "plt.show()"
      ],
      "execution_count": null,
      "outputs": [
        {
          "output_type": "display_data",
          "data": {
            "image/png": "[encoded data removed]",
            "text/plain": [
              "<Figure size 432x288 with 1 Axes>"
            ]
          },
          "metadata": {
            "needs_background": "light"
          }
        }
      ]
    },
    {
      "cell_type": "markdown",
      "metadata": {
        "id": "xQrhOReO99PY"
      },
      "source": [
        "**---> Using Single Perceptron (Threshold Function)**"
      ]
    },
    {
      "cell_type": "code",
      "metadata": {
        "id": "ORmG6q_48BiB"
      },
      "source": [
        "from sklearn.linear_model import Perceptron"
      ],
      "execution_count": null,
      "outputs": []
    },
    {
      "cell_type": "code",
      "metadata": {
        "id": "mkHB5s3ujmG1"
      },
      "source": [
        "# model3.decision_function(X_test)\n",
        "# y_train\n",
        "# y_train[0][0]\n",
        "\n",
        "\n",
        "# a = []\n",
        "# b= np.array(['1'])\n",
        "# c = np.array(['0'])\n",
        "\n",
        "# for i in range(len(y_train)):\n",
        "#   if y_train[i][0] == '0':\n",
        "#     a.append(b)\n",
        "#   else:\n",
        "#     a.append(c)\n",
        "# np.asarray(a)\n",
        "# model0 = Perceptron(tol=1e-3, random_state=0)\n",
        "# sp1 = model0.fit(X_train, a)\n",
        "# model0.decision_function(X_test)"
      ],
      "execution_count": null,
      "outputs": []
    },
    {
      "cell_type": "markdown",
      "metadata": {
        "id": "vvQa102YqNX-"
      },
      "source": [
        "*  Hyper Parameter Tuning for Perceptron"
      ]
    },
    {
      "cell_type": "code",
      "metadata": {
        "colab": {
          "base_uri": "https://localhost:8080/"
        },
        "id": "S3Yasl8DjojW",
        "outputId": "ea9b96ee-b145-4042-bbd3-b7d979cbbb36"
      },
      "source": [
        "sp_max_iters = [1, 10, 100]\n",
        "sp_tolerance = [0.004, 0.003, 0.002, 0.001]\n",
        "final_model_sp = Perceptron(tol=1e-3, random_state=0)\n",
        "acc = -1\n",
        "for iter in sp_max_iters:\n",
        "  for rho in sp_tolerance:\n",
        "    model2 = Perceptron(tol=(rho), random_state=0, max_iter=int(iter))\n",
        "    model2.fit(X_train, np.array(y_train))\n",
        "    sp_y_pred_val = model2.predict(X_val)\n",
        "    if metrics.accuracy_score(y_val, sp_y_pred_val) > acc:\n",
        "      acc = metrics.accuracy_score(y_val, sp_y_pred_val)\n",
        "      # print(acc)\n",
        "      final_model_sp = model2\n",
        "final_model_sp"
      ],
      "execution_count": null,
      "outputs": [
        {
          "output_type": "execute_result",
          "data": {
            "text/plain": [
              "Perceptron(alpha=0.0001, class_weight=None, early_stopping=False, eta0=1.0,\n",
              "           fit_intercept=True, max_iter=10, n_iter_no_change=5, n_jobs=None,\n",
              "           penalty=None, random_state=0, shuffle=True, tol=0.004,\n",
              "           validation_fraction=0.1, verbose=0, warm_start=False)"
            ]
          },
          "metadata": {},
          "execution_count": 34
        }
      ]
    },
    {
      "cell_type": "code",
      "metadata": {
        "colab": {
          "base_uri": "https://localhost:8080/"
        },
        "id": "6Tt1sw9kkrFZ",
        "outputId": "b667cf41-c3a1-450c-bef8-f647ce3d4811"
      },
      "source": [
        "# sp = final_model_sp.fit(X_train, y_train)\n",
        "KFold_func(final_model_sp, 'Single Perceptron')\n",
        "y_pred_sp = final_model_sp.predict(X_test)"
      ],
      "execution_count": null,
      "outputs": [
        {
          "output_type": "stream",
          "name": "stdout",
          "text": [
            "Single Perceptron: 0.615729 (0.210895)\n"
          ]
        }
      ]
    },
    {
      "cell_type": "code",
      "metadata": {
        "colab": {
          "base_uri": "https://localhost:8080/"
        },
        "id": "hbezuQXK9ZIM",
        "outputId": "c6b55ffa-dd73-4944-f3d6-8868225959e1"
      },
      "source": [
        "print(\"Accuracy SP:\",metrics.accuracy_score(y_test, y_pred_sp))\n",
        "print(\"Precision SP:\",metrics.precision_score(y_test, y_pred_sp, pos_label=\"0\"))\n",
        "print(\"Recall SP:\",metrics.recall_score(y_test, y_pred_sp, pos_label=\"0\"))\n",
        "print(\"F1 Score SP:\",metrics.f1_score(y_test, y_pred_sp, pos_label=\"0\"))"
      ],
      "execution_count": null,
      "outputs": [
        {
          "output_type": "stream",
          "name": "stdout",
          "text": [
            "Accuracy SP: 0.8001666666666667\n",
            "Precision SP: 0.8115398356555913\n",
            "Recall SP: 0.9692767228504374\n",
            "F1 Score SP: 0.8834224598930482\n"
          ]
        }
      ]
    },
    {
      "cell_type": "code",
      "metadata": {
        "colab": {
          "base_uri": "https://localhost:8080/",
          "height": 311
        },
        "id": "mOuPxNgj9vON",
        "outputId": "404bfda2-3b8b-4419-f372-14f6ae92b4de"
      },
      "source": [
        "matrix_sp = confusion_matrix(y_test, y_pred_sp)\n",
        "cm_sp = pd.DataFrame(matrix_sp, index=['not_fraud', 'fraud'], columns=['not_fraud', 'fraud'])\n",
        "\n",
        "sns.heatmap(cm_sp, annot=True, cbar=None, cmap=\"Blues\", fmt = 'g')\n",
        "plt.title(\"Confusion Matrix SP\"), plt.tight_layout()\n",
        "plt.ylabel(\"True Class\"), plt.xlabel(\"Predicted Class\")\n",
        "plt.show()"
      ],
      "execution_count": null,
      "outputs": [
        {
          "output_type": "display_data",
          "data": {
            "image/png": "[encoded data removed]",
            "text/plain": [
              "<Figure size 432x288 with 1 Axes>"
            ]
          },
          "metadata": {
            "needs_background": "light"
          }
        }
      ]
    },
    {
      "cell_type": "markdown",
      "metadata": {
        "id": "Ds1AP3AcR2Is"
      },
      "source": [
        "**---> Using Multi Layer Perceptron**"
      ]
    },
    {
      "cell_type": "code",
      "metadata": {
        "id": "vPwlVdw-R0IG"
      },
      "source": [
        "from sklearn.neural_network import MLPClassifier\n",
        "# model2 = MLPClassifier(solver='lbfgs', hidden_layer_sizes=(100,100), random_state=2)\n",
        "# model2 = MLPClassifier(solver='sgd', hidden_layer_sizes=(100,100), random_state=2)\n",
        "# model2 = MLPClassifier(solver='adam', hidden_layer_sizes=(100,100), random_state=2)\n",
        "# mlp = model2.fit(X_train, y_train)\n",
        "# y_pred_mlp = model2.predict(X_test)"
      ],
      "execution_count": null,
      "outputs": []
    },
    {
      "cell_type": "markdown",
      "metadata": {
        "id": "fLaOXvWuqCkZ"
      },
      "source": [
        "*  Hyper Parameter Tuning for MLP"
      ]
    },
    {
      "cell_type": "code",
      "metadata": {
        "colab": {
          "base_uri": "https://localhost:8080/"
        },
        "id": "nwmxJZA8Y5I8",
        "outputId": "639048af-8b0d-40e6-97fc-82985ae7f4e6"
      },
      "source": [
        "# mlp_max_iters = [200, 225, 250, 275]\n",
        "mlp_max_iters = [1, 200]\n",
        "# learning_rate = [0.001, 0.002, 0.003, 0.004]\n",
        "mlp_learning_rate = [0.002, 0.001]\n",
        "# tolerance = [0.0001, 0.0002, 0.0003, 0.0004]\n",
        "mlp_tolerance = [0.0002, 0.0001]\n",
        "final_model_mlp = MLPClassifier(solver='sgd', hidden_layer_sizes=(100), activation='logistic', random_state=2)\n",
        "acc = -1\n",
        "for iter in mlp_max_iters:\n",
        "  for lr in mlp_learning_rate:\n",
        "    for rho in mlp_tolerance:\n",
        "      model3 = MLPClassifier(solver='sgd', hidden_layer_sizes=(100), activation='logistic', random_state=2, learning_rate_init=(lr), tol=(rho), max_iter=int(iter))\n",
        "      model3.fit(X_train, np.array(y_train))\n",
        "      mlp_y_pred_val = model3.predict(X_val)\n",
        "      if metrics.accuracy_score(y_val, mlp_y_pred_val) > acc:\n",
        "        acc = metrics.accuracy_score(y_val, mlp_y_pred_val)\n",
        "        final_model_mlp = model3\n",
        "        # print(acc)\n",
        "final_model_mlp"
      ],
      "execution_count": null,
      "outputs": [
        {
          "output_type": "execute_result",
          "data": {
            "text/plain": [
              "MLPClassifier(activation='logistic', alpha=0.0001, batch_size='auto',\n",
              "              beta_1=0.9, beta_2=0.999, early_stopping=False, epsilon=1e-08,\n",
              "              hidden_layer_sizes=100, learning_rate='constant',\n",
              "              learning_rate_init=0.002, max_fun=15000, max_iter=200,\n",
              "              momentum=0.9, n_iter_no_change=10, nesterovs_momentum=True,\n",
              "              power_t=0.5, random_state=2, shuffle=True, solver='sgd',\n",
              "              tol=0.0001, validation_fraction=0.1, verbose=False,\n",
              "              warm_start=False)"
            ]
          },
          "metadata": {},
          "execution_count": 39
        }
      ]
    },
    {
      "cell_type": "code",
      "metadata": {
        "colab": {
          "base_uri": "https://localhost:8080/"
        },
        "id": "vVxSCXErfdsO",
        "outputId": "704ba240-6ec6-4cfe-b97e-ce0b7fffd1fc"
      },
      "source": [
        "# mlp = model2.fit(X_train, y_train)\n",
        "KFold_func(final_model_mlp, 'Multi Layer Perceptron')\n",
        "y_pred_mlp = final_model_mlp.predict(X_test)"
      ],
      "execution_count": null,
      "outputs": [
        {
          "output_type": "stream",
          "name": "stdout",
          "text": [
            "Multi Layer Perceptron: 0.783646 (0.006955)\n"
          ]
        }
      ]
    },
    {
      "cell_type": "code",
      "metadata": {
        "colab": {
          "base_uri": "https://localhost:8080/"
        },
        "id": "b9AoLDSjSKop",
        "outputId": "c5bc6a06-fa13-4cbb-a6d6-0b0c68501ee0"
      },
      "source": [
        "print(\"Accuracy MLP:\",metrics.accuracy_score(y_test, y_pred_mlp))\n",
        "print(\"Precision MLP:\",metrics.precision_score(y_test, y_pred_mlp, pos_label=\"0\"))\n",
        "print(\"Recall MLP:\",metrics.recall_score(y_test, y_pred_mlp, pos_label=\"0\"))\n",
        "print(\"F1 Score MLP:\",metrics.f1_score(y_test, y_pred_mlp, pos_label=\"0\"))"
      ],
      "execution_count": null,
      "outputs": [
        {
          "output_type": "stream",
          "name": "stdout",
          "text": [
            "Accuracy MLP: 0.7943333333333333\n",
            "Precision MLP: 0.7975185249009134\n",
            "Recall MLP: 0.987411990612332\n",
            "F1 Score MLP: 0.8823641563393708\n"
          ]
        }
      ]
    },
    {
      "cell_type": "code",
      "metadata": {
        "colab": {
          "base_uri": "https://localhost:8080/",
          "height": 311
        },
        "id": "zgvjXXU-Sk_H",
        "outputId": "9004f923-fe77-49ae-ebeb-a2b8eeacc7aa"
      },
      "source": [
        "matrix_mlp = confusion_matrix(y_test, y_pred_mlp)\n",
        "cm_mlp = pd.DataFrame(matrix_mlp, index=['not_fraud', 'fraud'], columns=['not_fraud', 'fraud'])\n",
        "\n",
        "sns.heatmap(cm_mlp, annot=True, cbar=None, cmap=\"Blues\", fmt = 'g')\n",
        "plt.title(\"Confusion Matrix MLP\"), plt.tight_layout()\n",
        "plt.ylabel(\"True Class\"), plt.xlabel(\"Predicted Class\")\n",
        "plt.show()"
      ],
      "execution_count": null,
      "outputs": [
        {
          "output_type": "display_data",
          "data": {
            "image/png": "[encoded data removed]",
            "text/plain": [
              "<Figure size 432x288 with 1 Axes>"
            ]
          },
          "metadata": {
            "needs_background": "light"
          }
        }
      ]
    }
  ]
}
